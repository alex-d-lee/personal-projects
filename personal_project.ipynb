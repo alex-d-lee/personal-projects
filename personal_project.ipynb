{
 "cells": [
  {
   "cell_type": "markdown",
   "id": "f2ec9fd4-65e0-4a5e-8cf2-39e37c045583",
   "metadata": {},
   "source": [
    "# Personal Project\n",
    "### By: Alex Lee"
   ]
  },
  {
   "cell_type": "code",
   "execution_count": 1,
   "id": "66d40d7e-91ef-48ea-96da-1e3cda235f97",
   "metadata": {},
   "outputs": [],
   "source": [
    "# Imports\n",
    "import pandas as pd\n",
    "import numpy as np\n",
    "import matplotlib.pyplot as plt\n",
    "import seaborn as sns\n",
    "import sklearn as sk"
   ]
  },
  {
   "cell_type": "code",
   "execution_count": null,
   "id": "8fe0eaae-fb1f-4394-abe7-ec66b24479e3",
   "metadata": {},
   "outputs": [],
   "source": []
  }
 ],
 "metadata": {
  "kernelspec": {
   "display_name": "Python 3 (ipykernel)",
   "language": "python",
   "name": "python3"
  },
  "language_info": {
   "codemirror_mode": {
    "name": "ipython",
    "version": 3
   },
   "file_extension": ".py",
   "mimetype": "text/x-python",
   "name": "python",
   "nbconvert_exporter": "python",
   "pygments_lexer": "ipython3",
   "version": "3.11.6"
  }
 },
 "nbformat": 4,
 "nbformat_minor": 5
}
